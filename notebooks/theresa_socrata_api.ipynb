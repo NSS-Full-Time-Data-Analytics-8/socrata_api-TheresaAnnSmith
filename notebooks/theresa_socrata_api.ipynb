{
 "cells": [
  {
   "cell_type": "code",
   "execution_count": null,
   "id": "9572b042",
   "metadata": {},
   "outputs": [],
   "source": [
    "import requests\n",
    "import pandas as pd\n",
    "import matplotlib.pyplot as plt\n",
    "\n",
    "%matplotlib inline"
   ]
  },
  {
   "cell_type": "markdown",
   "id": "170e31e7",
   "metadata": {},
   "source": [
    "### 1. Make an API request that returns the months where \"fire\" was searched in 2016. Which month had the most searches?  -August had the most searches."
   ]
  },
  {
   "cell_type": "code",
   "execution_count": null,
   "id": "fd82d8e7",
   "metadata": {},
   "outputs": [],
   "source": [
    "endpoint = 'https://data.nashville.gov/resource/fuaa-r5cm.json'"
   ]
  },
  {
   "cell_type": "code",
   "execution_count": null,
   "id": "ff97180d",
   "metadata": {},
   "outputs": [],
   "source": [
    "filters = {'year': '2016', 'query_text':'fire'}"
   ]
  },
  {
   "cell_type": "code",
   "execution_count": null,
   "id": "ca0a9a02",
   "metadata": {},
   "outputs": [],
   "source": [
    "response = requests.get(endpoint, params = filters)"
   ]
  },
  {
   "cell_type": "code",
   "execution_count": null,
   "id": "07bceee1",
   "metadata": {
    "scrolled": true
   },
   "outputs": [],
   "source": [
    "response"
   ]
  },
  {
   "cell_type": "code",
   "execution_count": null,
   "id": "9682c8b3",
   "metadata": {},
   "outputs": [],
   "source": [
    "result = response.json()"
   ]
  },
  {
   "cell_type": "code",
   "execution_count": null,
   "id": "a21e3e20",
   "metadata": {},
   "outputs": [],
   "source": [
    "search_dict = {}\n",
    "for line in result:\n",
    "    count = int(line.get('query_count'))\n",
    "    text = line.get('query_text')\n",
    "    if text in search_dict:\n",
    "        search_dict[text] += count\n",
    "    else:\n",
    "        search_dict[text] = count"
   ]
  },
  {
   "cell_type": "code",
   "execution_count": null,
   "id": "038655cc",
   "metadata": {},
   "outputs": [],
   "source": [
    "result"
   ]
  },
  {
   "cell_type": "code",
   "execution_count": null,
   "id": "15ec3c01",
   "metadata": {},
   "outputs": [],
   "source": [
    "fires_searched = pd.DataFrame(result)"
   ]
  },
  {
   "cell_type": "code",
   "execution_count": null,
   "id": "da110b1c",
   "metadata": {},
   "outputs": [],
   "source": [
    "fires_searched.sort_values(by = 'query_count', ascending = False)"
   ]
  },
  {
   "cell_type": "markdown",
   "id": "539acbd0",
   "metadata": {},
   "source": [
    "###  2. Make an API request that returns all the times a query was run more than 100 times in a month. How many times did this occur?  -This occured 1262 times"
   ]
  },
  {
   "cell_type": "code",
   "execution_count": null,
   "id": "838a9226",
   "metadata": {},
   "outputs": [],
   "source": [
    "endpoint = 'https://data.nashville.gov/resource/fuaa-r5cm.json'"
   ]
  },
  {
   "cell_type": "code",
   "execution_count": null,
   "id": "0871a60b",
   "metadata": {},
   "outputs": [],
   "source": [
    "filters = {'$where': 'query_count>100', '$limit':'10000000'}"
   ]
  },
  {
   "cell_type": "code",
   "execution_count": null,
   "id": "97fa160f",
   "metadata": {},
   "outputs": [],
   "source": [
    "response = requests.get(endpoint, params = filters)"
   ]
  },
  {
   "cell_type": "code",
   "execution_count": null,
   "id": "8daee757",
   "metadata": {},
   "outputs": [],
   "source": [
    "response"
   ]
  },
  {
   "cell_type": "code",
   "execution_count": null,
   "id": "ced3aedc",
   "metadata": {},
   "outputs": [],
   "source": [
    "result = response.json()"
   ]
  },
  {
   "cell_type": "code",
   "execution_count": null,
   "id": "09ccf0bc",
   "metadata": {},
   "outputs": [],
   "source": [
    "search_dict = {}\n",
    "for line in result:\n",
    "    count = int(line.get('query_count'))\n",
    "    text = line.get('query_text')\n",
    "    if text in search_dict:\n",
    "        search_dict[text] += count\n",
    "    else:\n",
    "        search_dict[text] = count"
   ]
  },
  {
   "cell_type": "code",
   "execution_count": null,
   "id": "664e9fa5",
   "metadata": {},
   "outputs": [],
   "source": [
    "result"
   ]
  },
  {
   "cell_type": "code",
   "execution_count": null,
   "id": "3ac9ef19",
   "metadata": {},
   "outputs": [],
   "source": [
    "query_months = pd.DataFrame(result)"
   ]
  },
  {
   "cell_type": "code",
   "execution_count": null,
   "id": "311ced32",
   "metadata": {},
   "outputs": [],
   "source": [
    "query_months"
   ]
  },
  {
   "cell_type": "markdown",
   "id": "9444989f",
   "metadata": {},
   "source": [
    "### 3. Make another API request that returns all the times \"codes\" was searched more than 100 times in a month. How many times did this occur?  -This occured 56 times"
   ]
  },
  {
   "cell_type": "code",
   "execution_count": null,
   "id": "15acb72c",
   "metadata": {},
   "outputs": [],
   "source": [
    "endpoint = 'https://data.nashville.gov/resource/fuaa-r5cm.json'"
   ]
  },
  {
   "cell_type": "code",
   "execution_count": null,
   "id": "47eb5751",
   "metadata": {},
   "outputs": [],
   "source": [
    "filters = {'query_text':'codes','$where': 'query_count>100'}"
   ]
  },
  {
   "cell_type": "code",
   "execution_count": null,
   "id": "28bdd8c5",
   "metadata": {},
   "outputs": [],
   "source": [
    "response = requests.get(endpoint, params = filters)"
   ]
  },
  {
   "cell_type": "code",
   "execution_count": null,
   "id": "67dd8d95",
   "metadata": {},
   "outputs": [],
   "source": [
    "response"
   ]
  },
  {
   "cell_type": "code",
   "execution_count": null,
   "id": "b3757027",
   "metadata": {},
   "outputs": [],
   "source": [
    "result = response.json()"
   ]
  },
  {
   "cell_type": "code",
   "execution_count": null,
   "id": "ab992d49",
   "metadata": {},
   "outputs": [],
   "source": [
    "search_dict = {}\n",
    "for line in result:\n",
    "    count = int(line.get('query_count'))\n",
    "    text = line.get('query_text')\n",
    "    if text in search_dict:\n",
    "        search_dict[text] += count\n",
    "    else:\n",
    "        search_dict[text] = count"
   ]
  },
  {
   "cell_type": "code",
   "execution_count": null,
   "id": "fb4b552c",
   "metadata": {},
   "outputs": [],
   "source": [
    "result"
   ]
  },
  {
   "cell_type": "code",
   "execution_count": null,
   "id": "339bf115",
   "metadata": {},
   "outputs": [],
   "source": [
    "code_months = pd.DataFrame(result)\n",
    "code_months"
   ]
  },
  {
   "cell_type": "code",
   "execution_count": null,
   "id": "3521a459",
   "metadata": {},
   "outputs": [],
   "source": [
    "code_months.columns"
   ]
  },
  {
   "cell_type": "code",
   "execution_count": null,
   "id": "6df5a6ba",
   "metadata": {},
   "outputs": [],
   "source": [
    "code_months = code_months.drop(columns = ['month'])"
   ]
  },
  {
   "cell_type": "code",
   "execution_count": null,
   "id": "14e549dd",
   "metadata": {},
   "outputs": [],
   "source": [
    "code_months"
   ]
  },
  {
   "cell_type": "code",
   "execution_count": null,
   "id": "6f990e0c",
   "metadata": {},
   "outputs": [],
   "source": []
  }
 ],
 "metadata": {
  "kernelspec": {
   "display_name": "Python 3 (ipykernel)",
   "language": "python",
   "name": "python3"
  },
  "language_info": {
   "codemirror_mode": {
    "name": "ipython",
    "version": 3
   },
   "file_extension": ".py",
   "mimetype": "text/x-python",
   "name": "python",
   "nbconvert_exporter": "python",
   "pygments_lexer": "ipython3",
   "version": "3.9.13"
  }
 },
 "nbformat": 4,
 "nbformat_minor": 5
}
