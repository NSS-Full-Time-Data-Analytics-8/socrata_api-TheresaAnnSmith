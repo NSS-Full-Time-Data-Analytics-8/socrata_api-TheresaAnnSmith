{
 "cells": [
  {
   "cell_type": "code",
   "execution_count": null,
   "id": "9572b042",
   "metadata": {},
   "outputs": [],
   "source": [
    "import requests\n",
    "import pandas as pd\n",
    "import matplotlib.pyplot as plt\n",
    "import seaborn as sns\n",
    "\n",
    "%matplotlib inline"
   ]
  },
  {
   "cell_type": "markdown",
   "id": "170e31e7",
   "metadata": {},
   "source": [
    "### 1. Make an API request that returns the months where \"fire\" was searched in 2016. Which month had the most searches?  -August had the most searches."
   ]
  },
  {
   "cell_type": "code",
   "execution_count": null,
   "id": "fd82d8e7",
   "metadata": {},
   "outputs": [],
   "source": [
    "endpoint = 'https://data.nashville.gov/resource/fuaa-r5cm.json'"
   ]
  },
  {
   "cell_type": "code",
   "execution_count": null,
   "id": "ff97180d",
   "metadata": {},
   "outputs": [],
   "source": [
    "filters = {'year': '2016', 'query_text':'fire'}"
   ]
  },
  {
   "cell_type": "code",
   "execution_count": null,
   "id": "ca0a9a02",
   "metadata": {},
   "outputs": [],
   "source": [
    "response = requests.get(endpoint, params = filters)"
   ]
  },
  {
   "cell_type": "code",
   "execution_count": null,
   "id": "07bceee1",
   "metadata": {
    "scrolled": true
   },
   "outputs": [],
   "source": [
    "response # checking to see if we get a 200"
   ]
  },
  {
   "cell_type": "code",
   "execution_count": null,
   "id": "9682c8b3",
   "metadata": {},
   "outputs": [],
   "source": [
    "result = response.json()"
   ]
  },
  {
   "cell_type": "code",
   "execution_count": null,
   "id": "038655cc",
   "metadata": {},
   "outputs": [],
   "source": [
    "result"
   ]
  },
  {
   "cell_type": "code",
   "execution_count": null,
   "id": "15ec3c01",
   "metadata": {},
   "outputs": [],
   "source": [
    "fires_searched = pd.DataFrame(result) # turning it into a dataframe"
   ]
  },
  {
   "cell_type": "code",
   "execution_count": null,
   "id": "da110b1c",
   "metadata": {},
   "outputs": [],
   "source": [
    "fires_searched.sort_values(by = 'query_count', ascending = False)"
   ]
  },
  {
   "cell_type": "markdown",
   "id": "539acbd0",
   "metadata": {},
   "source": [
    "###  2. Make an API request that returns all the times a query was run more than 100 times in a month. How many times did this occur?  -This occured 1262 times"
   ]
  },
  {
   "cell_type": "code",
   "execution_count": null,
   "id": "0871a60b",
   "metadata": {},
   "outputs": [],
   "source": [
    "filters = {'$where': 'query_count>100', '$limit':'10000000'}  # we have to use $limit because the default value is 1000\n",
    "\n",
    "response = requests.get(endpoint, params = filters)\n",
    "result = response.json()\n",
    "\n",
    "result"
   ]
  },
  {
   "cell_type": "code",
   "execution_count": null,
   "id": "3f321a48",
   "metadata": {},
   "outputs": [],
   "source": [
    "len(result)   # shows how many times this occured "
   ]
  },
  {
   "cell_type": "code",
   "execution_count": null,
   "id": "3ac9ef19",
   "metadata": {},
   "outputs": [],
   "source": [
    "query_months = pd.DataFrame(result) # turning it into a dataframe"
   ]
  },
  {
   "cell_type": "code",
   "execution_count": null,
   "id": "311ced32",
   "metadata": {
    "scrolled": true
   },
   "outputs": [],
   "source": [
    "query_months"
   ]
  },
  {
   "cell_type": "markdown",
   "id": "9444989f",
   "metadata": {},
   "source": [
    "### 3. Make another API request that returns all the times \"codes\" was searched more than 100 times in a month. How many times did this occur?  -This occured 56 times"
   ]
  },
  {
   "cell_type": "code",
   "execution_count": null,
   "id": "828148b8",
   "metadata": {
    "scrolled": false
   },
   "outputs": [],
   "source": [
    "filters = {'query_text':'codes','$where': 'query_count>100'}\n",
    "\n",
    "response = requests.get(endpoint,params = filters)\n",
    "result = response.json()\n",
    "\n",
    "result"
   ]
  },
  {
   "cell_type": "code",
   "execution_count": null,
   "id": "4f7ecd20",
   "metadata": {},
   "outputs": [],
   "source": [
    "len(result)"
   ]
  },
  {
   "cell_type": "code",
   "execution_count": null,
   "id": "339bf115",
   "metadata": {},
   "outputs": [],
   "source": [
    "code_months = pd.DataFrame(result) # turning it into a dataframe\n",
    "code_months"
   ]
  },
  {
   "cell_type": "code",
   "execution_count": null,
   "id": "3521a459",
   "metadata": {},
   "outputs": [],
   "source": [
    "code_months.columns # looking at the columns that are here "
   ]
  },
  {
   "cell_type": "code",
   "execution_count": null,
   "id": "6df5a6ba",
   "metadata": {},
   "outputs": [],
   "source": [
    "code_months = code_months.drop(columns = ['month']) # dropping the month column"
   ]
  },
  {
   "cell_type": "code",
   "execution_count": null,
   "id": "14e549dd",
   "metadata": {},
   "outputs": [],
   "source": [
    "code_months"
   ]
  },
  {
   "cell_type": "markdown",
   "id": "e743b84f",
   "metadata": {},
   "source": [
    "### 4. Make an API request that returns the entire Top 500 Monthly Searches dataset. Make a chart that shows the number of times \"maps\" was searched in a month across the entire time frame.\n"
   ]
  },
  {
   "cell_type": "code",
   "execution_count": null,
   "id": "9252ae09",
   "metadata": {},
   "outputs": [],
   "source": [
    "filters = {'$limit':'100000'}\n",
    "\n",
    "response = requests.get(endpoint,params = filters)\n",
    "result = response.json()\n",
    "\n",
    "result"
   ]
  },
  {
   "cell_type": "code",
   "execution_count": null,
   "id": "bdccd6a4",
   "metadata": {},
   "outputs": [],
   "source": [
    "len(result) #43,677"
   ]
  },
  {
   "cell_type": "code",
   "execution_count": null,
   "id": "2ec58c6f",
   "metadata": {},
   "outputs": [],
   "source": [
    "top_500 =pd.DataFrame(result)  # turning it into a dataframe that has 43,677 rows, 5 columns"
   ]
  },
  {
   "cell_type": "code",
   "execution_count": null,
   "id": "457c901f",
   "metadata": {},
   "outputs": [],
   "source": [
    "top_500"
   ]
  },
  {
   "cell_type": "code",
   "execution_count": null,
   "id": "0027ee45",
   "metadata": {},
   "outputs": [],
   "source": [
    "maps_searched = top_500.loc[top_500['query_text']== 'maps'] # 82 rows"
   ]
  },
  {
   "cell_type": "code",
   "execution_count": null,
   "id": "98f75950",
   "metadata": {},
   "outputs": [],
   "source": [
    "maps_searched.columns"
   ]
  },
  {
   "cell_type": "code",
   "execution_count": null,
   "id": "9f8de592",
   "metadata": {},
   "outputs": [],
   "source": [
    "maps_searched "
   ]
  },
  {
   "cell_type": "code",
   "execution_count": null,
   "id": "e2d3ef5e",
   "metadata": {},
   "outputs": [],
   "source": [
    "maps_searched['query_count'] = pd.to_numeric(maps_searched['query_count']) # changing query_count to integer"
   ]
  },
  {
   "cell_type": "code",
   "execution_count": null,
   "id": "ffca913a",
   "metadata": {},
   "outputs": [],
   "source": [
    "maps_searched.info() # checking to make sure the query count changed to integer"
   ]
  },
  {
   "cell_type": "code",
   "execution_count": null,
   "id": "5774ef6d",
   "metadata": {},
   "outputs": [],
   "source": [
    "maps_month = maps_searched.groupby('month_name')['query_count'].sum() # grouping by month and getting total of query_counts\n",
    "maps_month"
   ]
  },
  {
   "cell_type": "code",
   "execution_count": null,
   "id": "85cd0185",
   "metadata": {},
   "outputs": [],
   "source": [
    "maps_months = pd.DataFrame(maps_month) # creating a dataframe to make a chart"
   ]
  },
  {
   "cell_type": "code",
   "execution_count": null,
   "id": "3daf7fc1",
   "metadata": {},
   "outputs": [],
   "source": [
    "maps_months.reset_index(inplace = True)  # turning it into a dataframe with 2 columns\n",
    "maps_months"
   ]
  },
  {
   "cell_type": "code",
   "execution_count": null,
   "id": "751b0a85",
   "metadata": {},
   "outputs": [],
   "source": [
    "calendar_order =['January','February','March','April','May','June','July','August','September','October','November','December']\n",
    "\n",
    "maps_months = maps_months.reindex(calendar_order, axis = 0)\n",
    "\n",
    "maps_months     # getting the months to appear in calendar order"
   ]
  },
  {
   "cell_type": "code",
   "execution_count": null,
   "id": "5c66ac86",
   "metadata": {},
   "outputs": [],
   "source": [
    "sns.set_style('darkgrid')   # making a chart showing the number of times 'maps' was searched each month\n",
    "sns.barplot(data = maps_months, x = 'month_name', y ='query_count')\n",
    "plt.xticks(rotation = 45)\n",
    "plt.title ('How often do people search \"maps\" each month?')"
   ]
  },
  {
   "cell_type": "markdown",
   "id": "2da5ec6b",
   "metadata": {},
   "source": [
    "### 5. Make an API request to pull back all the data from [hubNashville (311) Service Requests]. Check to see how many rows you can return in a single request). Compare it to the Top 500 Monthly Searches dataset. What do you observe? (This is open-ended, there isn't a specific answer for this one) "
   ]
  },
  {
   "cell_type": "code",
   "execution_count": null,
   "id": "a6626371",
   "metadata": {},
   "outputs": [],
   "source": [
    "endpoint2 = 'https://data.nashville.gov/resource/7qhx-rexh.json'"
   ]
  },
  {
   "cell_type": "code",
   "execution_count": null,
   "id": "8bebf582",
   "metadata": {},
   "outputs": [],
   "source": [
    "filters2 = {'$limit':'500000'} # this took took a long time to run! "
   ]
  },
  {
   "cell_type": "code",
   "execution_count": null,
   "id": "f3c26723",
   "metadata": {},
   "outputs": [],
   "source": [
    "response2 = requests.get(endpoint2, params = filters2)"
   ]
  },
  {
   "cell_type": "code",
   "execution_count": null,
   "id": "2655d7a8",
   "metadata": {},
   "outputs": [],
   "source": [
    "result2 = response2.json()"
   ]
  },
  {
   "cell_type": "code",
   "execution_count": null,
   "id": "fd4e2427",
   "metadata": {},
   "outputs": [],
   "source": [
    "result2"
   ]
  },
  {
   "cell_type": "code",
   "execution_count": null,
   "id": "95bd2c3c",
   "metadata": {},
   "outputs": [],
   "source": [
    "len(result2)"
   ]
  },
  {
   "cell_type": "code",
   "execution_count": null,
   "id": "25dadd81",
   "metadata": {},
   "outputs": [],
   "source": [
    "hub_nashville = pd.DataFrame(result2) # turning it into a dataframe\n",
    "hub_nashville"
   ]
  },
  {
   "cell_type": "markdown",
   "id": "66c19677",
   "metadata": {},
   "source": [
    "### 6. Find 2 new data sets on data.nashville.gov, make API requests to pull the data, and do an analysis that combines the data sets."
   ]
  },
  {
   "cell_type": "code",
   "execution_count": null,
   "id": "60b0f41f",
   "metadata": {},
   "outputs": [],
   "source": [
    "endpoint3 = 'https://data.nashville.gov/resource/2u6v-ujjs.json'\n",
    "\n",
    "filters3 ={'zip_code':'37013'}\n",
    "response3 = requests.get(endpoint3, params = filters3)\n",
    "result3 = response3.json()"
   ]
  },
  {
   "cell_type": "code",
   "execution_count": null,
   "id": "03f57c9f",
   "metadata": {},
   "outputs": [],
   "source": [
    "result3"
   ]
  },
  {
   "cell_type": "code",
   "execution_count": null,
   "id": "bab9130f",
   "metadata": {},
   "outputs": [],
   "source": []
  }
 ],
 "metadata": {
  "kernelspec": {
   "display_name": "Python 3 (ipykernel)",
   "language": "python",
   "name": "python3"
  },
  "language_info": {
   "codemirror_mode": {
    "name": "ipython",
    "version": 3
   },
   "file_extension": ".py",
   "mimetype": "text/x-python",
   "name": "python",
   "nbconvert_exporter": "python",
   "pygments_lexer": "ipython3",
   "version": "3.9.13"
  }
 },
 "nbformat": 4,
 "nbformat_minor": 5
}
